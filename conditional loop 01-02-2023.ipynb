{
 "cells": [
  {
   "cell_type": "code",
   "execution_count": 1,
   "id": "1aa3849c-acda-450e-b2f2-720f766796d3",
   "metadata": {},
   "outputs": [],
   "source": [
    "d={}"
   ]
  },
  {
   "cell_type": "code",
   "execution_count": 2,
   "id": "05349999-1120-4a56-a918-f6c320974678",
   "metadata": {},
   "outputs": [
    {
     "data": {
      "text/plain": [
       "dict"
      ]
     },
     "execution_count": 2,
     "metadata": {},
     "output_type": "execute_result"
    }
   ],
   "source": [
    "type(d)"
   ]
  },
  {
   "cell_type": "code",
   "execution_count": 3,
   "id": "d0cb8353-a0ec-4865-a2cf-37923bfe19cb",
   "metadata": {},
   "outputs": [],
   "source": [
    "d1={'key': \"sultan\"}"
   ]
  },
  {
   "cell_type": "code",
   "execution_count": 4,
   "id": "192b6e80-11da-4c62-9ba7-ada402df2109",
   "metadata": {},
   "outputs": [
    {
     "data": {
      "text/plain": [
       "{'key': 'sultan'}"
      ]
     },
     "execution_count": 4,
     "metadata": {},
     "output_type": "execute_result"
    }
   ],
   "source": [
    "d1"
   ]
  },
  {
   "cell_type": "code",
   "execution_count": 5,
   "id": "096081ee-d3e4-475a-bd9c-644b956cbdbf",
   "metadata": {},
   "outputs": [],
   "source": [
    "d2={'name':\"sultan\",\"email\":\"sultanalamkhan717@gmail.com\", \"number\":717}"
   ]
  },
  {
   "cell_type": "code",
   "execution_count": 6,
   "id": "ee2539b9-7168-4bf8-a6c1-ef6f48fc57d0",
   "metadata": {},
   "outputs": [
    {
     "data": {
      "text/plain": [
       "{'name': 'sultan', 'email': 'sultanalamkhan717@gmail.com', 'number': 717}"
      ]
     },
     "execution_count": 6,
     "metadata": {},
     "output_type": "execute_result"
    }
   ],
   "source": [
    "d2"
   ]
  },
  {
   "cell_type": "code",
   "execution_count": 7,
   "id": "da876320-6bc6-4a62-ac53-29d2eb26d151",
   "metadata": {},
   "outputs": [],
   "source": [
    "d3={234:\"sultan\",'war':\"khan\",True:24234}"
   ]
  },
  {
   "cell_type": "code",
   "execution_count": 8,
   "id": "bbfbe000-e1b3-4c2f-b97e-86727218910c",
   "metadata": {},
   "outputs": [
    {
     "data": {
      "text/plain": [
       "{234: 'sultan', 'war': 'khan', True: 24234}"
      ]
     },
     "execution_count": 8,
     "metadata": {},
     "output_type": "execute_result"
    }
   ],
   "source": [
    "d3"
   ]
  },
  {
   "cell_type": "code",
   "execution_count": 9,
   "id": "eeacda75-d6f6-4c9b-adf0-16fe97b1b06e",
   "metadata": {},
   "outputs": [
    {
     "data": {
      "text/plain": [
       "'sultan'"
      ]
     },
     "execution_count": 9,
     "metadata": {},
     "output_type": "execute_result"
    }
   ],
   "source": [
    "d3[234]"
   ]
  },
  {
   "cell_type": "code",
   "execution_count": 10,
   "id": "882a79cc-97d0-44fa-a9b0-b5a1cd4f5aa4",
   "metadata": {},
   "outputs": [
    {
     "data": {
      "text/plain": [
       "24234"
      ]
     },
     "execution_count": 10,
     "metadata": {},
     "output_type": "execute_result"
    }
   ],
   "source": [
    "d3[True]"
   ]
  },
  {
   "cell_type": "code",
   "execution_count": 11,
   "id": "278e3737-2b54-4a85-be67-ec44babe1d23",
   "metadata": {},
   "outputs": [
    {
     "data": {
      "text/plain": [
       "24234"
      ]
     },
     "execution_count": 11,
     "metadata": {},
     "output_type": "execute_result"
    }
   ],
   "source": [
    "d3[1]"
   ]
  },
  {
   "cell_type": "code",
   "execution_count": 12,
   "id": "d9228eeb-56c1-4990-8df8-62526e1df3b7",
   "metadata": {},
   "outputs": [],
   "source": [
    "d4={'name':\"sultan\",'mailid' :\"sultanalamkhan717@gmail.com\",\"name\":\"sultan\"}"
   ]
  },
  {
   "cell_type": "code",
   "execution_count": 13,
   "id": "5abcd7dc-5047-4aac-abf1-efe000ba1d44",
   "metadata": {},
   "outputs": [
    {
     "data": {
      "text/plain": [
       "'sultan'"
      ]
     },
     "execution_count": 13,
     "metadata": {},
     "output_type": "execute_result"
    }
   ],
   "source": [
    "d4['name']"
   ]
  },
  {
   "cell_type": "code",
   "execution_count": 14,
   "id": "f03efec5-5f2b-4645-a886-a3443ba28e8d",
   "metadata": {},
   "outputs": [],
   "source": [
    "d5={\"company\":\"pwskill\",\"course\":[\"web\",\"data\",\"jawa\"]}"
   ]
  },
  {
   "cell_type": "code",
   "execution_count": 15,
   "id": "fea1d406-6f71-4282-b59d-f3f921e00ee9",
   "metadata": {},
   "outputs": [
    {
     "data": {
      "text/plain": [
       "['web', 'data', 'jawa']"
      ]
     },
     "execution_count": 15,
     "metadata": {},
     "output_type": "execute_result"
    }
   ],
   "source": [
    "d5['course']"
   ]
  },
  {
   "cell_type": "code",
   "execution_count": 16,
   "id": "669e7bd7-b4d0-4ffe-b0d7-97abd7f89833",
   "metadata": {},
   "outputs": [
    {
     "data": {
      "text/plain": [
       "'jawa'"
      ]
     },
     "execution_count": 16,
     "metadata": {},
     "output_type": "execute_result"
    }
   ],
   "source": [
    "d5['course'][2]"
   ]
  },
  {
   "cell_type": "code",
   "execution_count": 17,
   "id": "87ca3bd3-1a2d-45fb-9be2-6dad5f956997",
   "metadata": {},
   "outputs": [],
   "source": [
    "d6={\"number\":[2,3,4,5,6],\"assignment\":(1,2,3,4,5,6), \"LAUNCH\":{28,12,24}}"
   ]
  },
  {
   "cell_type": "code",
   "execution_count": 18,
   "id": "d015856b-2d14-492c-9430-aa5829e060ec",
   "metadata": {},
   "outputs": [
    {
     "data": {
      "text/plain": [
       "{'number': [2, 3, 4, 5, 6],\n",
       " 'assignment': (1, 2, 3, 4, 5, 6),\n",
       " 'LAUNCH': {12, 24, 28}}"
      ]
     },
     "execution_count": 18,
     "metadata": {},
     "output_type": "execute_result"
    }
   ],
   "source": [
    "d6"
   ]
  },
  {
   "cell_type": "code",
   "execution_count": 19,
   "id": "4fff14b4-e77d-452d-895a-f901a0e5a20d",
   "metadata": {},
   "outputs": [
    {
     "ename": "TypeError",
     "evalue": "pop expected at least 1 argument, got 0",
     "output_type": "error",
     "traceback": [
      "\u001b[0;31m---------------------------------------------------------------------------\u001b[0m",
      "\u001b[0;31mTypeError\u001b[0m                                 Traceback (most recent call last)",
      "Cell \u001b[0;32mIn[19], line 1\u001b[0m\n\u001b[0;32m----> 1\u001b[0m \u001b[43md6\u001b[49m\u001b[38;5;241;43m.\u001b[39;49m\u001b[43mpop\u001b[49m\u001b[43m(\u001b[49m\u001b[43m)\u001b[49m\n",
      "\u001b[0;31mTypeError\u001b[0m: pop expected at least 1 argument, got 0"
     ]
    }
   ],
   "source": [
    "d6.pop()"
   ]
  },
  {
   "cell_type": "code",
   "execution_count": null,
   "id": "f227ee79-d627-41cd-8c75-2c90bd993d81",
   "metadata": {},
   "outputs": [],
   "source": [
    "marks = int(input(\"enter your marks\"))\n",
    "if marks >= 80:\n",
    "    print(\"you will be a part of AB batch\")\n",
    "elif marks >= 60 and marks <80:\n",
    "    print(\"you will be a part of A1 batch\")\n",
    "elif marks >= 40 and marks <40:\n",
    "    print (\"you will be parts of A2 batch\")\n",
    "else :\n",
    "    print (\"you will be a part of a A3 batch\")"
   ]
  },
  {
   "cell_type": "code",
   "execution_count": null,
   "id": "b9d208e5-98e1-4d6f-b6e9-e3bf9174b096",
   "metadata": {},
   "outputs": [],
   "source": [
    "10>=80"
   ]
  },
  {
   "cell_type": "code",
   "execution_count": null,
   "id": "81d14a0b-437a-4415-9908-b24baf861b6a",
   "metadata": {},
   "outputs": [],
   "source": [
    "marks = int(input(\"enter your marks\")) "
   ]
  },
  {
   "cell_type": "code",
   "execution_count": null,
   "id": "072d9acc-2f2e-4b45-aaba-82ca9342d721",
   "metadata": {},
   "outputs": [],
   "source": [
    "marks= (342)"
   ]
  },
  {
   "cell_type": "code",
   "execution_count": null,
   "id": "f24d55a3-0ee2-4169-a59a-7094b5bb6803",
   "metadata": {},
   "outputs": [],
   "source": [
    "marks"
   ]
  },
  {
   "cell_type": "code",
   "execution_count": null,
   "id": "45723222-85a4-4cd1-8dc7-f744bc5c389b",
   "metadata": {},
   "outputs": [],
   "source": [
    "type(marks)"
   ]
  },
  {
   "cell_type": "code",
   "execution_count": 22,
   "id": "c4f3e021-0dc1-4bbf-a3e4-1d0b64752746",
   "metadata": {},
   "outputs": [
    {
     "name": "stdin",
     "output_type": "stream",
     "text": [
      "enter price 40000\n"
     ]
    },
    {
     "name": "stdout",
     "output_type": "stream",
     "text": [
      "i will not purchase\n"
     ]
    }
   ],
   "source": [
    "price= int(input(\"enter price\"))\n",
    "if price >1000:\n",
    "    print(\"i will not purchase\")\n",
    "    if price >50000:\n",
    "        print(\"this is too much\")\n",
    "    elif price <2000:\n",
    "        print(\"its ok\")\n",
    "elif price < 1000 : \n",
    "    print(\"ont intrested\")"
   ]
  },
  {
   "cell_type": "code",
   "execution_count": 25,
   "id": "688189ec-94d9-4969-adce-30a258f1e7ec",
   "metadata": {},
   "outputs": [],
   "source": [
    "l = [1,2,3,3,5,6,7,8]"
   ]
  },
  {
   "cell_type": "code",
   "execution_count": 27,
   "id": "150cb0cc-d5a6-4347-946d-fc4c6aed9657",
   "metadata": {},
   "outputs": [
    {
     "data": {
      "text/plain": [
       "2"
      ]
     },
     "execution_count": 27,
     "metadata": {},
     "output_type": "execute_result"
    }
   ],
   "source": [
    "l[0]+1"
   ]
  },
  {
   "cell_type": "code",
   "execution_count": 28,
   "id": "0b44dd40-1cc9-4e6e-a4a4-09db36ddf42b",
   "metadata": {},
   "outputs": [],
   "source": [
    "l1=[]"
   ]
  },
  {
   "cell_type": "code",
   "execution_count": 30,
   "id": "c9c43e1e-07df-41eb-813e-ef63245d1450",
   "metadata": {},
   "outputs": [],
   "source": [
    "l1.append(l[0]+1)"
   ]
  },
  {
   "cell_type": "code",
   "execution_count": 32,
   "id": "41b6301e-7aba-44ee-b176-929a873de1d0",
   "metadata": {},
   "outputs": [
    {
     "data": {
      "text/plain": [
       "[2]"
      ]
     },
     "execution_count": 32,
     "metadata": {},
     "output_type": "execute_result"
    }
   ],
   "source": [
    "l1"
   ]
  },
  {
   "cell_type": "code",
   "execution_count": 34,
   "id": "326f2b07-36ec-46f2-a349-5c713830af14",
   "metadata": {},
   "outputs": [],
   "source": [
    "l=[1,2,3,4,5,4,4,5,5]"
   ]
  },
  {
   "cell_type": "code",
   "execution_count": 43,
   "id": "89db364a-2cdc-458b-a078-fea1d6795f63",
   "metadata": {},
   "outputs": [
    {
     "name": "stdout",
     "output_type": "stream",
     "text": [
      "2\n",
      "3\n",
      "4\n",
      "5\n",
      "6\n",
      "5\n",
      "5\n",
      "6\n",
      "6\n"
     ]
    }
   ],
   "source": [
    "l1=[]\n",
    "for i in l:\n",
    "    print(i+1)\n",
    "    l1.append(1)"
   ]
  },
  {
   "cell_type": "code",
   "execution_count": 44,
   "id": "d9f41e35-a7c2-4636-9e7f-4d4ccb3add83",
   "metadata": {},
   "outputs": [
    {
     "data": {
      "text/plain": [
       "[1, 2, 3, 4, 5, 4, 4, 5, 5]"
      ]
     },
     "execution_count": 44,
     "metadata": {},
     "output_type": "execute_result"
    }
   ],
   "source": [
    "l"
   ]
  },
  {
   "cell_type": "code",
   "execution_count": 45,
   "id": "9f2b01ac-f924-4d0d-a1b5-6dc9bb6ab6c8",
   "metadata": {},
   "outputs": [],
   "source": [
    "l=[\"sulta\", \"khan\", \"pwskills\", \"course\"]"
   ]
  },
  {
   "cell_type": "code",
   "execution_count": 49,
   "id": "75070a30-3de4-4d4c-a2b1-0933ee7ebd0c",
   "metadata": {},
   "outputs": [
    {
     "name": "stdout",
     "output_type": "stream",
     "text": [
      "sulta\n",
      "khan\n",
      "pwskills\n",
      "course\n"
     ]
    }
   ],
   "source": [
    "l1=[]\n",
    "for i in l:\n",
    "    print(i)\n",
    "    l1.append(i.upper())"
   ]
  },
  {
   "cell_type": "code",
   "execution_count": 50,
   "id": "e63b9041-558a-4fb0-98da-70eee509ac1b",
   "metadata": {},
   "outputs": [
    {
     "data": {
      "text/plain": [
       "['SULTA', 'KHAN', 'PWSKILLS', 'COURSE']"
      ]
     },
     "execution_count": 50,
     "metadata": {},
     "output_type": "execute_result"
    }
   ],
   "source": [
    "l1"
   ]
  },
  {
   "cell_type": "code",
   "execution_count": 51,
   "id": "95b412bd-60e7-48ed-b93b-ba3b16deac20",
   "metadata": {},
   "outputs": [],
   "source": [
    "l=[1,2,3,4,4, \"sultan\", \"khan\", 334,225,666,\"abs\"]"
   ]
  },
  {
   "cell_type": "code",
   "execution_count": 54,
   "id": "eb055954-9edc-4350-8924-fb040da733d5",
   "metadata": {},
   "outputs": [],
   "source": [
    "l1_num =[]\n",
    "l2_str =[]\n",
    "for i in l:\n",
    "    if type(i)==int or type(i)==float :\n",
    "        l1_num.append(i)\n",
    "    else:\n",
    "        l2_str.append(i)"
   ]
  },
  {
   "cell_type": "code",
   "execution_count": 55,
   "id": "25683c80-3fdd-45ce-9da3-6ff2d6736abd",
   "metadata": {},
   "outputs": [
    {
     "data": {
      "text/plain": [
       "[1, 2, 3, 4, 4, 334, 225, 666]"
      ]
     },
     "execution_count": 55,
     "metadata": {},
     "output_type": "execute_result"
    }
   ],
   "source": [
    "l1_num"
   ]
  },
  {
   "cell_type": "code",
   "execution_count": 56,
   "id": "eb8500c8-1ba5-41f9-94da-0570d16f22a7",
   "metadata": {},
   "outputs": [
    {
     "data": {
      "text/plain": [
       "['sultan', 'khan', 'abs']"
      ]
     },
     "execution_count": 56,
     "metadata": {},
     "output_type": "execute_result"
    }
   ],
   "source": [
    "l2_str"
   ]
  },
  {
   "cell_type": "code",
   "execution_count": null,
   "id": "40f9e285-740e-4a64-8f10-65b65be5189c",
   "metadata": {},
   "outputs": [],
   "source": []
  }
 ],
 "metadata": {
  "kernelspec": {
   "display_name": "Python 3 (ipykernel)",
   "language": "python",
   "name": "python3"
  },
  "language_info": {
   "codemirror_mode": {
    "name": "ipython",
    "version": 3
   },
   "file_extension": ".py",
   "mimetype": "text/x-python",
   "name": "python",
   "nbconvert_exporter": "python",
   "pygments_lexer": "ipython3",
   "version": "3.10.8"
  }
 },
 "nbformat": 4,
 "nbformat_minor": 5
}
